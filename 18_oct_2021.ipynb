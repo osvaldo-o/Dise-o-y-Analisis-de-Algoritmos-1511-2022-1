{
  "nbformat": 4,
  "nbformat_minor": 0,
  "metadata": {
    "colab": {
      "name": "18-oct-2021.ipynb",
      "provenance": [],
      "authorship_tag": "ABX9TyMQezF+ptLM2aXUpECeGNzy",
      "include_colab_link": true
    },
    "kernelspec": {
      "name": "python3",
      "display_name": "Python 3"
    },
    "language_info": {
      "name": "python"
    }
  },
  "cells": [
    {
      "cell_type": "markdown",
      "metadata": {
        "id": "view-in-github",
        "colab_type": "text"
      },
      "source": [
        "<a href=\"https://colab.research.google.com/github/osvaldo-o/Diseno-y-Analisis-de-Algoritmos-1511-2022-1/blob/main/18_oct_2021.ipynb\" target=\"_parent\"><img src=\"https://colab.research.google.com/assets/colab-badge.svg\" alt=\"Open In Colab\"/></a>"
      ]
    },
    {
      "cell_type": "markdown",
      "metadata": {
        "id": "xQzoid0LtqfQ"
      },
      "source": [
        "# MERGE SORT"
      ]
    },
    {
      "cell_type": "code",
      "metadata": {
        "id": "eUU9XNa-tpkC"
      },
      "source": [
        "def mergeSort(data):\n",
        "  tam = len(data)\n",
        "  if tam == 1: # Caso base\n",
        "    return data\n",
        "  mid = tam//2\n",
        "  I = mergeSort(data[0:mid:1])\n",
        "  D = mergeSort(data[mid::1])\n",
        "  #print(f\"{I}\\t\\t{D}\")\n",
        "  return merge(I,D)\n",
        "\n",
        "def merge(I,D):\n",
        "  resultado = [None] * len(I)+len(D)\n",
        "  i = 0\n",
        "  d = 0\n",
        "  r = 0\n",
        "  while i < len(I) and d < len(D):\n",
        "    "
      ],
      "execution_count": 2,
      "outputs": []
    },
    {
      "cell_type": "code",
      "metadata": {
        "colab": {
          "base_uri": "https://localhost:8080/"
        },
        "id": "pz9vHq6hzG5T",
        "outputId": "4385bb39-a147-4027-b55d-dfd80f5fe7dd"
      },
      "source": [
        "nums = [10,51,2,18,4,31,12,5]\n",
        "mergeSort(nums)"
      ],
      "execution_count": 3,
      "outputs": [
        {
          "output_type": "stream",
          "name": "stdout",
          "text": [
            "[51]\t\t[10]\n",
            "[18]\t\t[2]\n",
            "None\t\tNone\n",
            "[31]\t\t[4]\n",
            "[5]\t\t[12]\n",
            "None\t\tNone\n",
            "None\t\tNone\n"
          ]
        }
      ]
    }
  ]
}