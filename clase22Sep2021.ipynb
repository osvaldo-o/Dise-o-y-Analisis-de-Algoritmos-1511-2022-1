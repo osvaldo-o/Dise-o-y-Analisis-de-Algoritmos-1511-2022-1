{
  "nbformat": 4,
  "nbformat_minor": 0,
  "metadata": {
    "colab": {
      "name": "clase22Sep2021",
      "provenance": [],
      "authorship_tag": "ABX9TyM+JpwAjLqX16MtqSjbCIcz",
      "include_colab_link": true
    },
    "kernelspec": {
      "name": "python3",
      "display_name": "Python 3"
    },
    "language_info": {
      "name": "python"
    }
  },
  "cells": [
    {
      "cell_type": "markdown",
      "metadata": {
        "id": "view-in-github",
        "colab_type": "text"
      },
      "source": [
        "<a href=\"https://colab.research.google.com/github/osvaldo-o/Diseno-y-Analisis-de-Algoritmos-1511-2022-1/blob/main/clase22Sep2021.ipynb\" target=\"_parent\"><img src=\"https://colab.research.google.com/assets/colab-badge.svg\" alt=\"Open In Colab\"/></a>"
      ]
    },
    {
      "cell_type": "code",
      "metadata": {
        "colab": {
          "base_uri": "https://localhost:8080/"
        },
        "id": "Nr2zVrfSzrSa",
        "outputId": "1d37ad24-1c84-40b9-b903-ee77b079bbc3"
      },
      "source": [
        "def busqueda( lista, valor ):\n",
        "  contador = 0\n",
        "  for i in range(len(lista)):\n",
        "    contador += 1\n",
        "    if lista[i] == valor:\n",
        "      print (f\"Encontrado en la posicion {i}\")\n",
        "      break\n",
        "  return contador\n",
        "\n",
        "numeros = [2,3,1,22,24,26,10,100,35]\n",
        "comparaciones = busqueda(numeros,10)\n",
        "print(f\"{comparaciones} comparaciones\")"
      ],
      "execution_count": 4,
      "outputs": [
        {
          "output_type": "stream",
          "name": "stdout",
          "text": [
            "Encontrado en la posicion 6\n",
            "7 comparaciones\n"
          ]
        }
      ]
    }
  ]
}