{
  "nbformat": 4,
  "nbformat_minor": 0,
  "metadata": {
    "colab": {
      "name": "10_nov_21.ipynb",
      "provenance": [],
      "collapsed_sections": [],
      "authorship_tag": "ABX9TyPn7qVjnpZ2zkBvQrbRs7wI",
      "include_colab_link": true
    },
    "kernelspec": {
      "name": "python3",
      "display_name": "Python 3"
    },
    "language_info": {
      "name": "python"
    }
  },
  "cells": [
    {
      "cell_type": "markdown",
      "metadata": {
        "id": "view-in-github",
        "colab_type": "text"
      },
      "source": [
        "<a href=\"https://colab.research.google.com/github/osvaldo-o/Diseno-y-Analisis-de-Algoritmos-1511-2022-1/blob/main/10_nov_21.ipynb\" target=\"_parent\"><img src=\"https://colab.research.google.com/assets/colab-badge.svg\" alt=\"Open In Colab\"/></a>"
      ]
    },
    {
      "cell_type": "code",
      "metadata": {
        "colab": {
          "base_uri": "https://localhost:8080/"
        },
        "id": "OvNVjYTRYhDW",
        "outputId": "ebeb0da1-3d3e-46ab-8f61-436aaec20559"
      },
      "source": [
        "def string_match_brute(A,P):\n",
        "  for i in range(len(A)-len(P)+1):\n",
        "    for j in range(len(P)):\n",
        "      if P[j] == A[j+i]:\n",
        "        pass\n",
        "      else:\n",
        "        break\n",
        "    if j+1 == len(P) and A[j+i] == P[j]:\n",
        "      print(f\"Se encontro en la posicion {i}\")\n",
        "\n",
        "entrada = \"001110010101101110101101\"\n",
        "patron = \"01101\"\n",
        "string_match_brute(entrada , patron)"
      ],
      "execution_count": 1,
      "outputs": [
        {
          "output_type": "stream",
          "name": "stdout",
          "text": [
            "Se encontro en la posicion 10\n",
            "Se encontro en la posicion 19\n"
          ]
        }
      ]
    }
  ]
}