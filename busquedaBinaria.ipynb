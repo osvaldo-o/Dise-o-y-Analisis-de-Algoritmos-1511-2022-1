{
  "nbformat": 4,
  "nbformat_minor": 0,
  "metadata": {
    "colab": {
      "name": "busquedaBinaria.ipynb",
      "provenance": [],
      "collapsed_sections": [],
      "authorship_tag": "ABX9TyM/zCiEb6JIV9/sp8pPJf9f",
      "include_colab_link": true
    },
    "kernelspec": {
      "name": "python3",
      "display_name": "Python 3"
    },
    "language_info": {
      "name": "python"
    }
  },
  "cells": [
    {
      "cell_type": "markdown",
      "metadata": {
        "id": "view-in-github",
        "colab_type": "text"
      },
      "source": [
        "<a href=\"https://colab.research.google.com/github/osvaldo-o/Diseno-y-Analisis-de-Algoritmos-1511-2022-1/blob/main/busquedaBinaria.ipynb\" target=\"_parent\"><img src=\"https://colab.research.google.com/assets/colab-badge.svg\" alt=\"Open In Colab\"/></a>"
      ]
    },
    {
      "cell_type": "code",
      "metadata": {
        "id": "vDOl0gTYj5qz"
      },
      "source": [
        "class nodoArbol:\n",
        "  def __init__( self, value, left=None, right=None):\n",
        "    self.data = value\n",
        "    self.left = left\n",
        "    self.right = right\n",
        "\n",
        "class arbolBB:\n",
        "  def __init__(self):\n",
        "    self.__root = None\n",
        "  \n",
        "  def insert(self, value):\n",
        "    if self.__root == None:\n",
        "      self.__root = nodoArbol(value)\n",
        "    else: \n",
        "      self.__insert_nodo__(self.__root, value)\n",
        "    \n",
        "  def __insert_nodo__(self, nodo, value):\n",
        "    if nodo.data == value:\n",
        "      print(\"ya existe\")\n",
        "      pass\n",
        "    elif value < nodo.data:\n",
        "      if nodo.left == None:\n",
        "        nodo.left = nodoArbol(value)\n",
        "      else:\n",
        "        self.__insert_nodo__(nodo.left, value)\n",
        "    else:\n",
        "      if nodo.right == None:\n",
        "        nodo.right = nodoArbol(value)\n",
        "      else:\n",
        "        self.__insert_nodo__(nodo.right, value)\n",
        "\n",
        "  def transversal(self, formato = \"inorden\"):\n",
        "    if formato == \"inorden\":\n",
        "      self.recorrido_in(self.__root)\n",
        "      print(\"recorrido in\")\n",
        "    elif formato == \"preorden\":\n",
        "      self.recorrido_pre(self.__root)\n",
        "      print(\"recorrido pre\")\n",
        "    else: #Post\n",
        "      self.recorrido_pos(self.__root)\n",
        "      print(\"recorrido pos\")\n",
        "\n",
        "  def recorrido_in(self, nodo):\n",
        "    if nodo != None:\n",
        "      self.recorrido_in(nodo.left)\n",
        "      print(nodo.data, end=\"  \")\n",
        "      self.recorrido_in(nodo.right)\n",
        "\n",
        "  def recorrido_pre(self, nodo):\n",
        "    if nodo != None:\n",
        "      print(nodo.data, end=\"  \")\n",
        "      self.recorrido_pre(nodo.left)\n",
        "      self.recorrido_pre(nodo.right)\n",
        "\n",
        "  def recorrido_pos(self, nodo):\n",
        "    if nodo != None:\n",
        "      self.recorrido_pos(nodo.left)\n",
        "      self.recorrido_pos(nodo.right)\n",
        "      print(nodo.data, end=\"  \")\n",
        "  \n",
        "  def busqueda(self,value,nodo=None):\n",
        "    if self.__root is None:\n",
        "      print('Arbol vacio')\n",
        "      return None\n",
        "    else:\n",
        "      return self.__busqueda__(value,self.__root)\n",
        "\n",
        "  def __busqueda__(self,value,nodo):\n",
        "    if nodo.data == value:\n",
        "      print(\"Encontrado \",nodo.data)\n",
        "      return nodo\n",
        "    elif value < nodo.data and nodo.left != None:\n",
        "      return self.__busqueda__(value,nodo.left)\n",
        "    elif value > nodo.data and nodo.right != None:\n",
        "      return self.__busqueda__(value,nodo.right)\n",
        "    else:\n",
        "      return \"No existe\"\n",
        "\n"
      ],
      "execution_count": 15,
      "outputs": []
    },
    {
      "cell_type": "code",
      "metadata": {
        "colab": {
          "base_uri": "https://localhost:8080/"
        },
        "id": "kZybQYFGkBO2",
        "outputId": "c026d65f-2454-4913-9b20-d2b305880dc8"
      },
      "source": [
        "abb = arbolBB()\n",
        "\n",
        "abb.insert(55)\n",
        "abb.insert(14)\n",
        "abb.insert(27)\n",
        "abb.insert(15)\n",
        "abb.insert(21)\n",
        "\n",
        "abb.busqueda(15)"
      ],
      "execution_count": 16,
      "outputs": [
        {
          "output_type": "stream",
          "name": "stdout",
          "text": [
            "Encontrado  15\n"
          ]
        },
        {
          "output_type": "execute_result",
          "data": {
            "text/plain": [
              "<__main__.nodoArbol at 0x7f63725a37d0>"
            ]
          },
          "metadata": {},
          "execution_count": 16
        }
      ]
    }
  ]
}