{
  "nbformat": 4,
  "nbformat_minor": 0,
  "metadata": {
    "colab": {
      "name": "Tarea8.ipynb",
      "provenance": []
    },
    "kernelspec": {
      "name": "python3",
      "display_name": "Python 3"
    },
    "language_info": {
      "name": "python"
    }
  },
  "cells": [
    {
      "cell_type": "code",
      "metadata": {
        "id": "KX8CRe9kZgIK"
      },
      "source": [
        "def detectar(cadena):\n",
        "  vocales = [\"a\",\"e\",\"i\",\"o\",\"u\",\"á\",\"é\",\"í\",\"ó\",\"ú\",\" \",\",\",\".\",\";\",\"1\",\"2\",\"3\",\"4\",\"5\",\"6\",\"7\",\"8\",\"9\",\"0\"]\n",
        "  letras = [\"b\",\"c\",\"d\",\"f\",\"g\",\"h\",\"j\",\"k\",\"l\",\"m\",\"n\",\"p\",\"q\",\"r\",\"s\",\"t\",\"v\",\"w\",\"x\",\"y\",\"z\",\" \",\",\",\".\",\";\",\"1\",\"2\",\"3\",\"4\",\"5\",\"6\",\"7\",\"8\",\"9\",\"0\"]\n",
        "  for i in range(1,len(cadena)-1):\n",
        "    # ((v,l,v),(v,v,l),(l,v,v),(l,v,l),(v,l,l),(l,l,v))\n",
        "    if not((isEsta(vocales,cadena[i-1]) and isEsta(vocales,cadena[i]) and isEsta(letras,cadena[i+1])) or (isEsta(letras,cadena[i-1]) and isEsta(vocales,cadena[i]) and isEsta(vocales,cadena[i+1])) or (isEsta(letras,cadena[i-1]) and isEsta(vocales,cadena[i]) and isEsta(letras,cadena[i+1])) or (isEsta(vocales,cadena[i-1]) and isEsta(letras,cadena[i]) and isEsta(letras,cadena[i+1])) or (isEsta(letras,cadena[i-1]) and isEsta(letras,cadena[i]) and isEsta(vocales,cadena[i+1])) or (isEsta(letras,cadena[i-1]) and isEsta(vocales,cadena[i]) and isEsta(vocales,cadena[i+1])) or (isEsta(letras,cadena[i-1]) and isEsta(vocales,cadena[i]) and isEsta(letras,cadena[i+1])) or (isEsta(vocales,cadena[i-1]) and isEsta(letras,cadena[i]) and isEsta(letras,cadena[i+1])) or (isEsta(vocales,cadena[i-1]) and isEsta(letras,cadena[i]) and isEsta(vocales,cadena[i+1]))):\n",
        "      return False \n",
        "  return True\n",
        "\n",
        "def isEsta(lista,elemento):\n",
        "  for e in lista:\n",
        "    if e == elemento:\n",
        "      return True\n",
        "  return False"
      ],
      "execution_count": 4,
      "outputs": []
    },
    {
      "cell_type": "code",
      "metadata": {
        "colab": {
          "base_uri": "https://localhost:8080/"
        },
        "id": "qpivOx2na6AF",
        "outputId": "f5478db6-66f3-4982-c922-01ca2b8bb245"
      },
      "source": [
        "cifrado = \"zg gzhv lpz vidhv v gv pidqzmndyvy ivxdjivg, kjm hd mvuv cvwgvmá zg znkímdop, mzqzgv gv qjxvxdói cphviínodxv xji gv lpz apz xjixzwdyv. zg vpojm yz znov xégzwmz amvnz, ejné qvnxjixzgjn, vnphdó gv mzxojmív zi 1920, zi piv ékjxv zi lpz gvn znkzmviuvn yz gv mzqjgpxdói vúi znovwvi qdqvn, cvwív piv bmvi aé zi gv kvomdv t zg áidhj mzyziojm nz zsoziyív zi zg vhwdzioz.\"\n",
        "alfabeto = \"abcdefghijklmnopqrstuvwxyz\"\n",
        "for llave in range(1,len(alfabeto)):\n",
        "  cadena_ = \"\"\n",
        "  for i in range(len(cifrado)):\n",
        "    if cifrado[i] in alfabeto:\n",
        "      index = alfabeto.index(cifrado[i])\n",
        "      cadena_ = cadena_ + alfabeto[(index+llave)%26]\n",
        "    else:\n",
        "      cadena_ = cadena_ + cifrado[i]\n",
        "  if detectar(cadena_):\n",
        "    print(cadena_)"
      ],
      "execution_count": 6,
      "outputs": [
        {
          "output_type": "stream",
          "name": "stdout",
          "text": [
            "el lema que anima a la universidad nacional, por mi raza hablará el espíritu, revela la vocación humanística con la que fue concebida. el autor de esta célebre frase, josé vasconcelos, asumió la rectoría en 1920, en una época en que las esperanzas de la revolución aún estaban vivas, había una gran fé en la patria y el ánimo redentor se extendía en el ambiente.\n"
          ]
        }
      ]
    }
  ]
}