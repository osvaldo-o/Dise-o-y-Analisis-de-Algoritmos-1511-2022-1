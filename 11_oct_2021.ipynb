{
  "nbformat": 4,
  "nbformat_minor": 0,
  "metadata": {
    "colab": {
      "name": "11-oct-2021.ipynb",
      "provenance": [],
      "authorship_tag": "ABX9TyOz1SmAelnzJC6F+ylzrmSf",
      "include_colab_link": true
    },
    "kernelspec": {
      "name": "python3",
      "display_name": "Python 3"
    },
    "language_info": {
      "name": "python"
    }
  },
  "cells": [
    {
      "cell_type": "markdown",
      "metadata": {
        "id": "view-in-github",
        "colab_type": "text"
      },
      "source": [
        "<a href=\"https://colab.research.google.com/github/osvaldo-o/Diseno-y-Analisis-de-Algoritmos-1511-2022-1/blob/main/11_oct_2021.ipynb\" target=\"_parent\"><img src=\"https://colab.research.google.com/assets/colab-badge.svg\" alt=\"Open In Colab\"/></a>"
      ]
    },
    {
      "cell_type": "code",
      "metadata": {
        "id": "JSda4HY1WSKl",
        "colab": {
          "base_uri": "https://localhost:8080/"
        },
        "outputId": "bf7a71b9-2039-4b29-fea0-4994be75c941"
      },
      "source": [
        "info = [8,5,9,3] # M O(n) P O(1)\n",
        "def burbuja(data): # M O(0) P O(0)\n",
        "  n = len(data) # M O(1) P O(1)\n",
        "  for tope in range(n-1,0,-1): # M O(1) P O(na)\n",
        "    for pivote in range(tope): # M O(1) P O(na)\n",
        "      if data[pivote] > data[pivote+1]: \n",
        "        data[pivote],data[pivote+1] = data[pivote+1],data[pivote] # M O(0) P O(2n*2)\n",
        "  return data # M O(0) P O(1)\n",
        "# M O(n) P O(n*2)\n",
        "print(burbuja(info))"
      ],
      "execution_count": null,
      "outputs": [
        {
          "output_type": "stream",
          "name": "stdout",
          "text": [
            "[3, 5, 8, 9]\n"
          ]
        }
      ]
    },
    {
      "cell_type": "markdown",
      "metadata": {
        "id": "Vpn6sd8elC65"
      },
      "source": [
        "#Selection sort"
      ]
    },
    {
      "cell_type": "code",
      "metadata": {
        "id": "8xmsu0dsYdOh"
      },
      "source": [
        "info = [45,8,5,9,3,1,27] # M O(n) P O(1)"
      ],
      "execution_count": null,
      "outputs": []
    },
    {
      "cell_type": "code",
      "metadata": {
        "colab": {
          "base_uri": "https://localhost:8080/"
        },
        "id": "7NQUCvx0XXWE",
        "outputId": "9547ce33-4c58-4323-db9b-abc094606192"
      },
      "source": [
        "def selection(data): # M O(n) P O(1)\n",
        "  for pivote in range(len(data)): # M O(1) P O(na)\n",
        "    min = pivote # M O(1) P O(1*n)\n",
        "    for index in range(pivote,len(data),1): # M O(1) P O(na)\n",
        "      if data[index] < data[min]: # M O(0) P O(na)\n",
        "        min = index # M O(0) P O(1*n^2)\n",
        "    data[pivote],data[min] = data[min],data[pivote] # M O(0) P O(2*n)\n",
        "    print(f\"-->{data}<--\") \n",
        "  return data # M O(n) P O(1)\n",
        "print(selection(info))\n",
        "# M O(n) P O(n^2)"
      ],
      "execution_count": null,
      "outputs": [
        {
          "output_type": "stream",
          "name": "stdout",
          "text": [
            "-->[1, 8, 5, 9, 3, 45, 27]<--\n",
            "-->[1, 3, 5, 9, 8, 45, 27]<--\n",
            "-->[1, 3, 5, 9, 8, 45, 27]<--\n",
            "-->[1, 3, 5, 8, 9, 45, 27]<--\n",
            "-->[1, 3, 5, 8, 9, 45, 27]<--\n",
            "-->[1, 3, 5, 8, 9, 27, 45]<--\n",
            "-->[1, 3, 5, 8, 9, 27, 45]<--\n",
            "[1, 3, 5, 8, 9, 27, 45]\n"
          ]
        }
      ]
    },
    {
      "cell_type": "markdown",
      "metadata": {
        "id": "ZN-QQCPaz0cr"
      },
      "source": [
        "# Insertion sort"
      ]
    },
    {
      "cell_type": "code",
      "metadata": {
        "id": "ixcvLdSW0FuX"
      },
      "source": [
        "def insertion(data):\n",
        "  print(f\"original{data}\")"
      ],
      "execution_count": null,
      "outputs": []
    }
  ]
}