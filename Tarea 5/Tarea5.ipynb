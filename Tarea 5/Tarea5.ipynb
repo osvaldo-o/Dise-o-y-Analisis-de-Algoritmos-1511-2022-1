{
  "nbformat": 4,
  "nbformat_minor": 0,
  "metadata": {
    "colab": {
      "name": "Tarea5.ipynb",
      "provenance": [],
      "collapsed_sections": []
    },
    "kernelspec": {
      "name": "python3",
      "display_name": "Python 3"
    },
    "language_info": {
      "name": "python"
    }
  },
  "cells": [
    {
      "cell_type": "code",
      "metadata": {
        "id": "Nhb3zgZmYihR"
      },
      "source": [
        "def calcule(monto):\n",
        "    monedas = (20,10,5,1,0.5) #O(5*4=20) O(1)\n",
        "    billetes = (500,200,100) #O(3*4=12) O(1)\n",
        "    conteo = 0 #O(4) O(1)\n",
        "    salida = \"\" #O(0) O(1)\n",
        "    validar = False #O(1) O(1)\n",
        "    for billete in billetes: #O(1) O(na)\n",
        "      while validar is False: #O(0) O(na)\n",
        "        aux = monto #O(1) O(3*n)\n",
        "        monto = monto - billete #O(0) O(3*n)\n",
        "        if monto >= 0: #O(0) O(na)\n",
        "          conteo = conteo+1 #O(0) O(3*n)\n",
        "        else:\n",
        "          monto = aux #O(0) O(3)\n",
        "          validar = True #O(0) O(3)\n",
        "      if conteo > 0: #O(0) O(na)\n",
        "        salida = salida + \"\\n\" + f\"{conteo} billetes de {billete}\" #O(17) O(3)\n",
        "      validar = False #O(0) O(3)\n",
        "      conteo = 0 #O(0) O(3)\n",
        "    \n",
        "    for moneda in monedas: #O(1) O(na)\n",
        "      while validar is False: #O(0) O(na)\n",
        "        aux = monto #O(1) O(5*n)\n",
        "        monto = monto - moneda #O(0) O(5*n)\n",
        "        if monto >= 0: #O(0) O(na)\n",
        "          conteo =  conteo+1 #O(0) O(5*n)\n",
        "        else:\n",
        "          monto = aux #O(0) O(5)\n",
        "          validar = True #O(0) O(5)\n",
        "      if conteo > 0: #O(0) O(na)\n",
        "        salida = salida + \"\\n\" + f\"{conteo} monedas de {moneda}\" #O(17) O(5)\n",
        "      validar = False #O(0) O(5)\n",
        "      conteo = 0 #O(0) O(5)\n",
        "      \n",
        "    return salida\n",
        "\n",
        "# Memoria O(75)\n",
        "# Procesamiento O(42+3*n+5*n)"
      ],
      "execution_count": null,
      "outputs": []
    },
    {
      "cell_type": "code",
      "metadata": {
        "colab": {
          "base_uri": "https://localhost:8080/"
        },
        "id": "I29xHQ_hbB2C",
        "outputId": "9e030fa4-9967-44e8-af5c-2dd12698867c"
      },
      "source": [
        "#Ejemplo:\n",
        "#¿Introduce el monto? : 459\n",
        "print(calcule(459))\n"
      ],
      "execution_count": null,
      "outputs": [
        {
          "output_type": "stream",
          "name": "stdout",
          "text": [
            "\n",
            "2 billetes de 200\n",
            "2 monedas de 20\n",
            "1 monedas de 10\n",
            "1 monedas de 5\n",
            "4 monedas de 1\n"
          ]
        }
      ]
    }
  ]
}