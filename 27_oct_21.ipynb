{
  "nbformat": 4,
  "nbformat_minor": 0,
  "metadata": {
    "colab": {
      "name": "27-oct-21.ipynb",
      "provenance": [],
      "authorship_tag": "ABX9TyP16QVHWtA7mSCVkbHVwurS",
      "include_colab_link": true
    },
    "kernelspec": {
      "name": "python3",
      "display_name": "Python 3"
    },
    "language_info": {
      "name": "python"
    }
  },
  "cells": [
    {
      "cell_type": "markdown",
      "metadata": {
        "id": "view-in-github",
        "colab_type": "text"
      },
      "source": [
        "<a href=\"https://colab.research.google.com/github/osvaldo-o/Diseno-y-Analisis-de-Algoritmos-1511-2022-1/blob/main/27_oct_21.ipynb\" target=\"_parent\"><img src=\"https://colab.research.google.com/assets/colab-badge.svg\" alt=\"Open In Colab\"/></a>"
      ]
    },
    {
      "cell_type": "markdown",
      "metadata": {
        "id": "csv6FAHxEgPC"
      },
      "source": [
        "# ARBOLES BINARIO\n",
        "# Arbol binario de busqueda"
      ]
    },
    {
      "cell_type": "code",
      "metadata": {
        "id": "2Nhjl-Y-FLNu"
      },
      "source": [
        "class nodoArbol:\n",
        "  def __init__(self,value,left=None,rigth=None):\n",
        "    self.data = value\n",
        "    self.left = left\n",
        "    self.rigth = rigth\n",
        "\n",
        "class arbolBB:\n",
        "  def __init__(self):\n",
        "    pass\n",
        "  "
      ],
      "execution_count": 1,
      "outputs": []
    },
    {
      "cell_type": "code",
      "metadata": {
        "colab": {
          "base_uri": "https://localhost:8080/"
        },
        "id": "BmxA4SVXNEoU",
        "outputId": "a0b8a87a-47f3-41be-8f56-677b111e245c"
      },
      "source": [
        "raiz = nodoArbol(60)\n",
        "raiz.left = nodoArbol(40)\n",
        "print(raiz.left.data)\n",
        "\n",
        "raiz = nodoArbol(60,nodoArbol(40))\n",
        "print(raiz.left.data)\n",
        "\n",
        "raiz = nodoArbol(60,nodoArbol(40,nodoArbol(30)),nodoArbol(70))\n",
        "print(raiz.left.left.data)"
      ],
      "execution_count": 7,
      "outputs": [
        {
          "output_type": "stream",
          "name": "stdout",
          "text": [
            "40\n",
            "40\n",
            "30\n"
          ]
        }
      ]
    }
  ]
}