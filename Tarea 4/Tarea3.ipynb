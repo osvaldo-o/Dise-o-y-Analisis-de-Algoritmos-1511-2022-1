{
  "nbformat": 4,
  "nbformat_minor": 0,
  "metadata": {
    "colab": {
      "name": "Tarea3.ipynb",
      "provenance": [],
      "collapsed_sections": []
    },
    "kernelspec": {
      "name": "python3",
      "display_name": "Python 3"
    },
    "language_info": {
      "name": "python"
    }
  },
  "cells": [
    {
      "cell_type": "markdown",
      "metadata": {
        "id": "eors5qhc_dvx"
      },
      "source": [
        "Se desea encontrara todos los palíndromos que existen en la franja horaria de un día completo. Tomando como horario inicial las 00:00 hrs y como horario final las 23:59hrs, el algoritmo debe mostrar en pantalla todos los palíndromos existentes en ese rango, al final debe mostrar el conteo total de palíndromos existentes."
      ]
    },
    {
      "cell_type": "code",
      "metadata": {
        "id": "68h4XgGa_VTr"
      },
      "source": [
        "def palindromo():\n",
        "  hora = \"\"\n",
        "  cont = 0\n",
        "  for i in range(0,24):\n",
        "    for j in range(0,60):\n",
        "      if i < 10 and j < 10:\n",
        "        hora = f\"0{i}:0{j}\"\n",
        "      elif i < 10:\n",
        "        hora = f\"0{i}:{j}\"\n",
        "      elif j < 10:\n",
        "        hora = f\"{i}:0{j}\"\n",
        "      else:\n",
        "        hora = f\"{i}:{j}\"\n",
        "      if hora[0:2] == hora[4]+hora[3]:\n",
        "        print(hora)\n",
        "        cont += 1\n",
        "  print(f\"conteo total de palíndromos existentes: {cont}\")"
      ],
      "execution_count": 3,
      "outputs": []
    },
    {
      "cell_type": "code",
      "metadata": {
        "colab": {
          "base_uri": "https://localhost:8080/"
        },
        "id": "wUAcnHDj_iiD",
        "outputId": "6004cf2b-ccf9-4646-d08d-204902080b6d"
      },
      "source": [
        "palindromo()"
      ],
      "execution_count": 4,
      "outputs": [
        {
          "output_type": "stream",
          "name": "stdout",
          "text": [
            "00:00\n",
            "01:10\n",
            "02:20\n",
            "03:30\n",
            "04:40\n",
            "05:50\n",
            "10:01\n",
            "11:11\n",
            "12:21\n",
            "13:31\n",
            "14:41\n",
            "15:51\n",
            "20:02\n",
            "21:12\n",
            "22:22\n",
            "23:32\n",
            "conteo total de palíndromos existentes: 16\n"
          ]
        }
      ]
    }
  ]
}