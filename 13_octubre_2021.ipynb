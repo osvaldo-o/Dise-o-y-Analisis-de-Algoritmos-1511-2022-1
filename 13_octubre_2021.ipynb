{
  "nbformat": 4,
  "nbformat_minor": 0,
  "metadata": {
    "colab": {
      "name": "13-octubre-2021.ipynb",
      "provenance": [],
      "authorship_tag": "ABX9TyP/qkZZ0aewFW95wwk4eLOK",
      "include_colab_link": true
    },
    "kernelspec": {
      "name": "python3",
      "display_name": "Python 3"
    },
    "language_info": {
      "name": "python"
    }
  },
  "cells": [
    {
      "cell_type": "markdown",
      "metadata": {
        "id": "view-in-github",
        "colab_type": "text"
      },
      "source": [
        "<a href=\"https://colab.research.google.com/github/osvaldo-o/Diseno-y-Analisis-de-Algoritmos-1511-2022-1/blob/main/13_octubre_2021.ipynb\" target=\"_parent\"><img src=\"https://colab.research.google.com/assets/colab-badge.svg\" alt=\"Open In Colab\"/></a>"
      ]
    },
    {
      "cell_type": "code",
      "metadata": {
        "colab": {
          "base_uri": "https://localhost:8080/"
        },
        "id": "qSJi2AeC-UAv",
        "outputId": "31623812-2190-4a95-f527-f6b930e4ab2a"
      },
      "source": [
        "def insertion_sort(data): # M O(n) P O(1)\n",
        "  print(f\"original{data}\") # M O(0) P O(1)\n",
        "  for pivote in range(1,len(data),1): # M O(1) P O(na)\n",
        "    for index in range(0,pivote+1,1): # M O(1) P O(na)\n",
        "      if data[pivote] < data[index]: # M O(0) P O(na)\n",
        "        tmp = data[pivote] # M O(1) P O(n)\n",
        "        for i in range(pivote,index,-1): # M O(1) P O(na)\n",
        "          data[i] = data[i-1] # M O(0) P O(n*m)\n",
        "        data[index] = tmp # M O(0) P O(n)\n",
        "  return data # M O(0) P O(1)\n",
        "\n",
        "# M O(n+4) P O(4+2n+n*m)\n",
        "# M O(n) P O(n^2)\n",
        "\n",
        "info = [10,51,2,18,4,31,12,5]\n",
        "print(insertion_sort(info))"
      ],
      "execution_count": 8,
      "outputs": [
        {
          "output_type": "stream",
          "name": "stdout",
          "text": [
            "original[10, 51, 2, 18, 4, 31, 12, 5]\n",
            "[2, 4, 5, 10, 12, 18, 31, 51]\n"
          ]
        }
      ]
    }
  ]
}