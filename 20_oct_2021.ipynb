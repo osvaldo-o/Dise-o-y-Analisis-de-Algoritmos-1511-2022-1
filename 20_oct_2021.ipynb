{
  "nbformat": 4,
  "nbformat_minor": 0,
  "metadata": {
    "colab": {
      "name": "20-oct-2021.ipynb",
      "provenance": [],
      "collapsed_sections": [],
      "authorship_tag": "ABX9TyMW3vVG5Rz658CX3J61ordp",
      "include_colab_link": true
    },
    "kernelspec": {
      "name": "python3",
      "display_name": "Python 3"
    },
    "language_info": {
      "name": "python"
    }
  },
  "cells": [
    {
      "cell_type": "markdown",
      "metadata": {
        "id": "view-in-github",
        "colab_type": "text"
      },
      "source": [
        "<a href=\"https://colab.research.google.com/github/osvaldo-o/Diseno-y-Analisis-de-Algoritmos-1511-2022-1/blob/main/20_oct_2021.ipynb\" target=\"_parent\"><img src=\"https://colab.research.google.com/assets/colab-badge.svg\" alt=\"Open In Colab\"/></a>"
      ]
    },
    {
      "cell_type": "markdown",
      "metadata": {
        "id": "xQzoid0LtqfQ"
      },
      "source": [
        "# MERGE SORT"
      ]
    },
    {
      "cell_type": "code",
      "metadata": {
        "id": "eUU9XNa-tpkC"
      },
      "source": [
        "def mergeSort(data): # M O(n) P O(1)\n",
        "  tam = len(data) # M O(1) P O(1)\n",
        "  if tam == 1: # Caso base # M O(0) P O(na)\n",
        "    return data # M O(0) P O(1)\n",
        "  mid = tam//2 # M O(1) P O(2)\n",
        "  I = mergeSort(data[0:mid:1]) # M O(0) P O((Log n)/2)\n",
        "  D = mergeSort(data[mid::1])\n",
        "  #print(f\"{I}\\t\\t{D}\")\n",
        "  return merge(I,D)\n",
        "\n",
        "def merge(I,D): # M O() P O()\n",
        "  resultado = [0] * (len(I)+len(D))\n",
        "  i = 0\n",
        "  d = 0\n",
        "  r = 0\n",
        "  while i < len(I) and d < len(D):\n",
        "    if I[i] < D[d]:\n",
        "      resultado[r] = I[i]\n",
        "      i+=1\n",
        "    else:\n",
        "      resultado[r] = D[d]\n",
        "      d+=1\n",
        "    r+=1\n",
        "  while i < len(I):\n",
        "    resultado[r] = I[i]\n",
        "    i+=1\n",
        "    r+=1\n",
        "  while d < len(D):\n",
        "    resultado[r] = D[d]\n",
        "    d+=1\n",
        "    r+=1\n",
        "  return resultado"
      ],
      "execution_count": null,
      "outputs": []
    },
    {
      "cell_type": "code",
      "metadata": {
        "colab": {
          "base_uri": "https://localhost:8080/"
        },
        "id": "pz9vHq6hzG5T",
        "outputId": "84092945-7794-455c-a837-164612ec1e58"
      },
      "source": [
        "nums = [10,51,2,18,4,31,12,5]\n",
        "mergeSort(nums)"
      ],
      "execution_count": null,
      "outputs": [
        {
          "output_type": "execute_result",
          "data": {
            "text/plain": [
              "[2, 4, 5, 10, 12, 18, 31, 51]"
            ]
          },
          "metadata": {},
          "execution_count": 14
        }
      ]
    }
  ]
}