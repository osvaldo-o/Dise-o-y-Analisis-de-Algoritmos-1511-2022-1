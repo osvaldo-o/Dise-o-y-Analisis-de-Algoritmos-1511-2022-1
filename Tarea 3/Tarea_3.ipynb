{
  "nbformat": 4,
  "nbformat_minor": 0,
  "metadata": {
    "colab": {
      "name": "Tarea 3.ipynb",
      "provenance": [],
      "collapsed_sections": []
    },
    "kernelspec": {
      "name": "python3",
      "display_name": "Python 3"
    },
    "language_info": {
      "name": "python"
    }
  },
  "cells": [
    {
      "cell_type": "code",
      "metadata": {
        "id": "LgIab1ZlnGrU"
      },
      "source": [
        "def combinaciones(lista: list):\n",
        "  print(f\"Entrada: {lista}\")\n",
        "  [[print(f\"{i} {j}\") for i in lista] for j in lista]\n",
        "  print(f\"Final: {len(lista)**2}\")"
      ],
      "execution_count": 13,
      "outputs": []
    },
    {
      "cell_type": "code",
      "metadata": {
        "colab": {
          "base_uri": "https://localhost:8080/"
        },
        "id": "1XJ1iB5fpAl6",
        "outputId": "f6dc7fc6-9e19-4f67-c788-7c1ffbef0485"
      },
      "source": [
        "lista = [1,2,3]\n",
        "combinaciones(lista)"
      ],
      "execution_count": 14,
      "outputs": [
        {
          "output_type": "stream",
          "name": "stdout",
          "text": [
            "Entrada: [1, 2, 3]\n",
            "1 1\n",
            "2 1\n",
            "3 1\n",
            "1 2\n",
            "2 2\n",
            "3 2\n",
            "1 3\n",
            "2 3\n",
            "3 3\n",
            "Final: 9\n"
          ]
        }
      ]
    }
  ]
}