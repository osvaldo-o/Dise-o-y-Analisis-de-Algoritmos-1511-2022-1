{
  "nbformat": 4,
  "nbformat_minor": 0,
  "metadata": {
    "colab": {
      "name": "19_nov_2021.ipynb",
      "provenance": [],
      "collapsed_sections": [],
      "authorship_tag": "ABX9TyM10jBsIYAQdVEQ9sXl5G5f",
      "include_colab_link": true
    },
    "kernelspec": {
      "name": "python3",
      "display_name": "Python 3"
    },
    "language_info": {
      "name": "python"
    }
  },
  "cells": [
    {
      "cell_type": "markdown",
      "metadata": {
        "id": "view-in-github",
        "colab_type": "text"
      },
      "source": [
        "<a href=\"https://colab.research.google.com/github/osvaldo-o/Diseno-y-Analisis-de-Algoritmos-1511-2022-1/blob/main/19_nov_2021.ipynb\" target=\"_parent\"><img src=\"https://colab.research.google.com/assets/colab-badge.svg\" alt=\"Open In Colab\"/></a>"
      ]
    },
    {
      "cell_type": "code",
      "metadata": {
        "colab": {
          "base_uri": "https://localhost:8080/",
          "height": 353
        },
        "id": "NFUVvvkCl2C0",
        "outputId": "c124d7f4-6052-455e-ad18-82ab8b2e5694"
      },
      "source": [
        "from matplotlib import pyplot as plt \n",
        "import random \n",
        "import math\n",
        "\n",
        "def distancia( p1 , p2): # pare p1=[100, 34] p2=[27, 37]\n",
        "    dis = math.sqrt((pow(((p2[0]-p1[0])),2))+(pow(((p2[1]-p1[1])),2)))\n",
        "    return dis\n",
        "\n",
        "pares = []\n",
        "for i in range(30):\n",
        "  pares.append([random.randint(1,100),random.randint(1,100)])\n",
        "print(pares)\n",
        "for par in pares:\n",
        "    plt.scatter(par[0],par[1] , s=3 ,c=\"y\"  )\n",
        "\n",
        "for par in pares:\n",
        "  distancia(par,par)\n",
        "  \n",
        "print(distancia([100,34],[27,37]))\n",
        "\n",
        "menor = 99999\n",
        "d=0\n",
        "par_menor = []\n",
        "for i in range(len(pares)):\n",
        "  for j in range(len(pares)):\n",
        "    d = distancia(pares[i], pares[j])\n",
        "    if d < menor and d != 0.0:\n",
        "      menor = d\n",
        "      par_menor.clear()\n",
        "      par_menor.append(pares[i])\n",
        "      par_menor.append(pares[j])\n",
        "\n",
        "print(menor)\n",
        "print(par_menor[0],par_menor[1])"
      ],
      "execution_count": 7,
      "outputs": [
        {
          "output_type": "stream",
          "name": "stdout",
          "text": [
            "[[32, 41], [11, 7], [45, 80], [46, 84], [29, 5], [49, 66], [10, 40], [47, 81], [89, 52], [77, 71], [9, 23], [56, 10], [81, 79], [93, 50], [43, 84], [53, 70], [36, 25], [45, 48], [34, 100], [81, 89], [86, 83], [79, 87], [41, 66], [81, 51], [76, 21], [34, 100], [88, 23], [40, 18], [5, 36], [66, 25]]\n",
            "73.06161783043132\n",
            "2.23606797749979\n",
            "[45, 80] [47, 81]\n"
          ]
        },
        {
          "output_type": "display_data",
          "data": {
            "image/png": "[encoded data removed]",
            "text/plain": [
              "<Figure size 432x288 with 1 Axes>"
            ]
          },
          "metadata": {
            "needs_background": "light"
          }
        }
      ]
    }
  ]
}