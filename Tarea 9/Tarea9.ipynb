{
  "nbformat": 4,
  "nbformat_minor": 0,
  "metadata": {
    "colab": {
      "name": "Tarea9.ipynb",
      "provenance": []
    },
    "kernelspec": {
      "name": "python3",
      "display_name": "Python 3"
    },
    "language_info": {
      "name": "python"
    }
  },
  "cells": [
    {
      "cell_type": "code",
      "metadata": {
        "id": "UvaT8saBBZMQ"
      },
      "source": [
        "def __quickSort__(L,salida):\n",
        "  piv = L.pop()\n",
        "  if len(L) == 0:\n",
        "    salida.append(piv)\n",
        "    return None\n",
        "  mayores = []\n",
        "  menores = []\n",
        "  for e in L:\n",
        "    mayores.append(e) if piv >= e else menores.append(e)\n",
        "  if len(mayores) >= 1:\n",
        "    __quickSort__(mayores,salida)\n",
        "  salida.append(piv)\n",
        "  if len(menores) >= 1:\n",
        "    __quickSort__(menores,salida)\n",
        "\n",
        "def quickSort(L):\n",
        "  salida = []\n",
        "  __quickSort__(L,salida)\n",
        "  return salida"
      ],
      "execution_count": 164,
      "outputs": []
    },
    {
      "cell_type": "code",
      "metadata": {
        "colab": {
          "base_uri": "https://localhost:8080/"
        },
        "id": "F3mN1vyDEKj_",
        "outputId": "41f1eb96-0264-4c69-901b-a4eafb5bcf8c"
      },
      "source": [
        "# Prueba\n",
        "print(quickSort([7,-3,-24,-6,10,4,-39,11,-9,12,0,36,34,31,-12,41,-7,48]))"
      ],
      "execution_count": 165,
      "outputs": [
        {
          "output_type": "stream",
          "name": "stdout",
          "text": [
            "[-39, -24, -12, -9, -7, -6, -3, 0, 4, 7, 10, 11, 12, 31, 34, 36, 41, 48]\n"
          ]
        }
      ]
    }
  ]
}